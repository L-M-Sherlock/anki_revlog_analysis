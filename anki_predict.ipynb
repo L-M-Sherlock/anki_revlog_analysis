{
 "cells": [
  {
   "cell_type": "code",
   "execution_count": 22,
   "metadata": {},
   "outputs": [],
   "source": [
    "import pandas as pd\n",
    "import matplotlib.pylab as plt\n",
    "import numpy as np\n",
    "from matplotlib.pyplot import MultipleLocator\n",
    "import seaborn as sns\n",
    "from sklearn.metrics import r2_score\n",
    "from sklearn.metrics import mean_absolute_error\n",
    "from sklearn.metrics import mean_squared_error\n",
    "from sklearn.metrics import log_loss\n",
    "from sklearn.metrics import roc_curve, auc\n",
    "plt.rcParams['font.sans-serif'] = ['SimHei']  # 用来正常显示中文标签\n",
    "plt.rcParams['axes.unicode_minus'] = False  # 用来正常显示负号\n",
    "sns.set(style=\"white\")\n",
    "sns.set(font='SimHei')"
   ]
  },
  {
   "cell_type": "code",
   "execution_count": 13,
   "metadata": {},
   "outputs": [],
   "source": [
    "df = pd.read_csv('momo_sm_202012280955.csv')"
   ]
  },
  {
   "cell_type": "code",
   "execution_count": 7,
   "metadata": {},
   "outputs": [
    {
     "data": {
      "text/html": [
       "<div>\n",
       "<style scoped>\n",
       "    .dataframe tbody tr th:only-of-type {\n",
       "        vertical-align: middle;\n",
       "    }\n",
       "\n",
       "    .dataframe tbody tr th {\n",
       "        vertical-align: top;\n",
       "    }\n",
       "\n",
       "    .dataframe thead th {\n",
       "        text-align: right;\n",
       "    }\n",
       "</style>\n",
       "<table border=\"1\" class=\"dataframe\">\n",
       "  <thead>\n",
       "    <tr style=\"text-align: right;\">\n",
       "      <th></th>\n",
       "      <th>user_id</th>\n",
       "      <th>voc_id</th>\n",
       "      <th>first_response</th>\n",
       "      <th>repeat_long</th>\n",
       "      <th>used_interval</th>\n",
       "      <th>first_grade</th>\n",
       "      <th>pp</th>\n",
       "      <th>p</th>\n",
       "    </tr>\n",
       "  </thead>\n",
       "  <tbody>\n",
       "    <tr>\n",
       "      <td>0</td>\n",
       "      <td>2566</td>\n",
       "      <td>180</td>\n",
       "      <td>4</td>\n",
       "      <td>3</td>\n",
       "      <td>4</td>\n",
       "      <td>4.0</td>\n",
       "      <td>0.868940</td>\n",
       "      <td>1</td>\n",
       "    </tr>\n",
       "    <tr>\n",
       "      <td>1</td>\n",
       "      <td>37454</td>\n",
       "      <td>488</td>\n",
       "      <td>4</td>\n",
       "      <td>3</td>\n",
       "      <td>3</td>\n",
       "      <td>4.0</td>\n",
       "      <td>0.900000</td>\n",
       "      <td>1</td>\n",
       "    </tr>\n",
       "    <tr>\n",
       "      <td>2</td>\n",
       "      <td>37454</td>\n",
       "      <td>488</td>\n",
       "      <td>4</td>\n",
       "      <td>4</td>\n",
       "      <td>5</td>\n",
       "      <td>4.0</td>\n",
       "      <td>0.927505</td>\n",
       "      <td>1</td>\n",
       "    </tr>\n",
       "    <tr>\n",
       "      <td>3</td>\n",
       "      <td>37454</td>\n",
       "      <td>488</td>\n",
       "      <td>4</td>\n",
       "      <td>5</td>\n",
       "      <td>7</td>\n",
       "      <td>4.0</td>\n",
       "      <td>0.948683</td>\n",
       "      <td>1</td>\n",
       "    </tr>\n",
       "    <tr>\n",
       "      <td>4</td>\n",
       "      <td>37454</td>\n",
       "      <td>488</td>\n",
       "      <td>4</td>\n",
       "      <td>6</td>\n",
       "      <td>15</td>\n",
       "      <td>4.0</td>\n",
       "      <td>0.920186</td>\n",
       "      <td>1</td>\n",
       "    </tr>\n",
       "  </tbody>\n",
       "</table>\n",
       "</div>"
      ],
      "text/plain": [
       "   user_id  voc_id  first_response  repeat_long  used_interval  first_grade  \\\n",
       "0     2566     180               4            3              4          4.0   \n",
       "1    37454     488               4            3              3          4.0   \n",
       "2    37454     488               4            4              5          4.0   \n",
       "3    37454     488               4            5              7          4.0   \n",
       "4    37454     488               4            6             15          4.0   \n",
       "\n",
       "         pp  p  \n",
       "0  0.868940  1  \n",
       "1  0.900000  1  \n",
       "2  0.927505  1  \n",
       "3  0.948683  1  \n",
       "4  0.920186  1  "
      ]
     },
     "execution_count": 7,
     "metadata": {},
     "output_type": "execute_result"
    }
   ],
   "source": [
    "df.drop(df[df['type'] == 0].index, inplace=True)\n",
    "df.head()"
   ]
  },
  {
   "cell_type": "code",
   "execution_count": 29,
   "metadata": {},
   "outputs": [
    {
     "data": {
      "image/png": "[encoded data removed]",
      "text/plain": [
       "<Figure size 432x288 with 1 Axes>"
      ]
     },
     "metadata": {},
     "output_type": "display_data"
    }
   ],
   "source": [
    "plt.hist(df['ease'], bins=np.arange(6)-0.5)\n",
    "plt.ylabel('复习记录(条)')\n",
    "plt.xlabel('反馈')\n",
    "plt.show()"
   ]
  },
  {
   "cell_type": "code",
   "execution_count": 66,
   "metadata": {},
   "outputs": [
    {
     "data": {
      "image/png": "[encoded data removed]",
      "text/plain": [
       "<Figure size 432x288 with 1 Axes>"
      ]
     },
     "metadata": {
      "needs_background": "light"
     },
     "output_type": "display_data"
    }
   ],
   "source": [
    "plt.hist(df['p'], bins=2)\n",
    "ax = plt.gca()\n",
    "ax.xaxis.set_major_locator(MultipleLocator(1))\n",
    "plt.ylabel('复习记录(条)')\n",
    "plt.xlabel('遗忘/认识')\n",
    "plt.show()"
   ]
  },
  {
   "cell_type": "code",
   "execution_count": 67,
   "metadata": {},
   "outputs": [
    {
     "data": {
      "image/png": "[encoded data removed]",
      "text/plain": [
       "<Figure size 432x288 with 1 Axes>"
      ]
     },
     "metadata": {
      "needs_background": "light"
     },
     "output_type": "display_data"
    }
   ],
   "source": [
    "plt.hist([x for x in df['used_interval']], bins=20)\n",
    "plt.xlabel('真实间隔(天)')\n",
    "plt.ylabel('复习记录(条)')\n",
    "plt.yscale('log')\n",
    "plt.show()"
   ]
  },
  {
   "cell_type": "code",
   "execution_count": 68,
   "metadata": {},
   "outputs": [
    {
     "data": {
      "image/png": "[encoded data removed]",
      "text/plain": [
       "<Figure size 432x288 with 1 Axes>"
      ]
     },
     "metadata": {
      "needs_background": "light"
     },
     "output_type": "display_data"
    }
   ],
   "source": [
    "def _compute_bin_p_recall(group):\n",
    "    return pd.DataFrame([\n",
    "        {'p': group['p'].mean()}\n",
    "    ])\n",
    "global_forgetting = df.groupby(\n",
    "    pd.qcut(df['used_interval'], 20, duplicates=\"drop\")\n",
    ").apply(_compute_bin_p_recall).reset_index().drop(['level_1'], axis=1)\n",
    "sns.barplot(x='used_interval', y='p', data=global_forgetting, color=sns.color_palette()[0])\n",
    "plt.xticks(rotation=90)\n",
    "plt.ylim(0.6, 1)\n",
    "plt.show()"
   ]
  },
  {
   "cell_type": "code",
   "execution_count": 69,
   "metadata": {},
   "outputs": [
    {
     "data": {
      "image/png": "[encoded data removed]",
      "text/plain": [
       "<Figure size 432x288 with 1 Axes>"
      ]
     },
     "metadata": {
      "needs_background": "light"
     },
     "output_type": "display_data"
    }
   ],
   "source": [
    "global_repeat_long = df.groupby(\n",
    "    df['repeat_long']\n",
    ").apply(_compute_bin_p_recall).reset_index().drop(['level_1'], axis=1)[:15]\n",
    "sns.barplot(x='repeat_long', y='p', data=global_repeat_long, color=sns.color_palette()[0])\n",
    "plt.xticks(rotation=90)\n",
    "plt.ylim(0.6, 1)\n",
    "plt.show()"
   ]
  },
  {
   "cell_type": "code",
   "execution_count": 70,
   "metadata": {},
   "outputs": [
    {
     "data": {
      "image/png": "[encoded data removed]",
      "text/plain": [
       "<Figure size 432x288 with 1 Axes>"
      ]
     },
     "metadata": {
      "needs_background": "light"
     },
     "output_type": "display_data"
    }
   ],
   "source": [
    "global_repeat_long = df.groupby(\n",
    "    df['con_rep']\n",
    ").apply(_compute_bin_p_recall).reset_index().drop(['level_1'], axis=1)[:10]\n",
    "sns.barplot(x='con_rep', y='p', data=global_repeat_long, color=sns.color_palette()[0])\n",
    "plt.xticks(rotation=90)\n",
    "plt.ylim(0.6, 1)\n",
    "plt.show()"
   ]
  },
  {
   "cell_type": "code",
   "execution_count": 71,
   "metadata": {},
   "outputs": [
    {
     "data": {
      "image/png": "[encoded data removed]",
      "text/plain": [
       "<Figure size 432x288 with 1 Axes>"
      ]
     },
     "metadata": {
      "needs_background": "light"
     },
     "output_type": "display_data"
    }
   ],
   "source": [
    "traces = df[df.repeat_long == 3]\n",
    "global_lu = traces.groupby(\n",
    "    df['used_interval']\n",
    ").apply(_compute_bin_p_recall).reset_index().drop(['level_1'], axis=1)[:15]\n",
    "sns.barplot(x='used_interval', y='p', data=global_lu, color=sns.color_palette()[0])\n",
    "plt.xticks(rotation=90)\n",
    "plt.ylim(0.6, 1)\n",
    "plt.show()"
   ]
  },
  {
   "cell_type": "code",
   "execution_count": 54,
   "metadata": {},
   "outputs": [
    {
     "ename": "AttributeError",
     "evalue": "'DataFrame' object has no attribute 'ease'",
     "output_type": "error",
     "traceback": [
      "\u001b[1;31m---------------------------------------------------------------------------\u001b[0m",
      "\u001b[1;31mAttributeError\u001b[0m                            Traceback (most recent call last)",
      "\u001b[1;32m<ipython-input-54-a2f6386bcd12>\u001b[0m in \u001b[0;36m<module>\u001b[1;34m\u001b[0m\n\u001b[1;32m----> 1\u001b[1;33m \u001b[0mtraces\u001b[0m \u001b[1;33m=\u001b[0m \u001b[0mtraces\u001b[0m\u001b[1;33m[\u001b[0m\u001b[0mtraces\u001b[0m\u001b[1;33m.\u001b[0m\u001b[0mease\u001b[0m \u001b[1;33m==\u001b[0m \u001b[1;36m3\u001b[0m\u001b[1;33m]\u001b[0m\u001b[1;33m\u001b[0m\u001b[1;33m\u001b[0m\u001b[0m\n\u001b[0m\u001b[0;32m      2\u001b[0m \u001b[0mplt\u001b[0m\u001b[1;33m.\u001b[0m\u001b[0mhist\u001b[0m\u001b[1;33m(\u001b[0m\u001b[1;33m[\u001b[0m\u001b[0mx\u001b[0m \u001b[1;32mfor\u001b[0m \u001b[0mx\u001b[0m \u001b[1;32min\u001b[0m \u001b[0mtraces\u001b[0m\u001b[1;33m[\u001b[0m\u001b[1;34m'used_interval'\u001b[0m\u001b[1;33m]\u001b[0m \u001b[1;32mif\u001b[0m \u001b[0mx\u001b[0m \u001b[1;33m<=\u001b[0m \u001b[1;36m10\u001b[0m\u001b[1;33m]\u001b[0m\u001b[1;33m,\u001b[0m \u001b[0mbins\u001b[0m\u001b[1;33m=\u001b[0m\u001b[0mnp\u001b[0m\u001b[1;33m.\u001b[0m\u001b[0marange\u001b[0m\u001b[1;33m(\u001b[0m\u001b[1;36m10\u001b[0m\u001b[1;33m+\u001b[0m\u001b[1;36m1\u001b[0m\u001b[1;33m)\u001b[0m\u001b[1;33m-\u001b[0m\u001b[1;36m0.5\u001b[0m\u001b[1;33m)\u001b[0m\u001b[1;33m\u001b[0m\u001b[1;33m\u001b[0m\u001b[0m\n\u001b[0;32m      3\u001b[0m \u001b[0mplt\u001b[0m\u001b[1;33m.\u001b[0m\u001b[0mxlabel\u001b[0m\u001b[1;33m(\u001b[0m\u001b[1;34m'真实间隔(天)'\u001b[0m\u001b[1;33m)\u001b[0m\u001b[1;33m\u001b[0m\u001b[1;33m\u001b[0m\u001b[0m\n\u001b[0;32m      4\u001b[0m \u001b[0mplt\u001b[0m\u001b[1;33m.\u001b[0m\u001b[0mylabel\u001b[0m\u001b[1;33m(\u001b[0m\u001b[1;34m'复习记录(条)'\u001b[0m\u001b[1;33m)\u001b[0m\u001b[1;33m\u001b[0m\u001b[1;33m\u001b[0m\u001b[0m\n\u001b[0;32m      5\u001b[0m \u001b[0mplt\u001b[0m\u001b[1;33m.\u001b[0m\u001b[0mshow\u001b[0m\u001b[1;33m(\u001b[0m\u001b[1;33m)\u001b[0m\u001b[1;33m\u001b[0m\u001b[1;33m\u001b[0m\u001b[0m\n",
      "\u001b[1;32mC:\\ProgramData\\Anaconda3\\lib\\site-packages\\pandas\\core\\generic.py\u001b[0m in \u001b[0;36m__getattr__\u001b[1;34m(self, name)\u001b[0m\n\u001b[0;32m   5177\u001b[0m             \u001b[1;32mif\u001b[0m \u001b[0mself\u001b[0m\u001b[1;33m.\u001b[0m\u001b[0m_info_axis\u001b[0m\u001b[1;33m.\u001b[0m\u001b[0m_can_hold_identifiers_and_holds_name\u001b[0m\u001b[1;33m(\u001b[0m\u001b[0mname\u001b[0m\u001b[1;33m)\u001b[0m\u001b[1;33m:\u001b[0m\u001b[1;33m\u001b[0m\u001b[1;33m\u001b[0m\u001b[0m\n\u001b[0;32m   5178\u001b[0m                 \u001b[1;32mreturn\u001b[0m \u001b[0mself\u001b[0m\u001b[1;33m[\u001b[0m\u001b[0mname\u001b[0m\u001b[1;33m]\u001b[0m\u001b[1;33m\u001b[0m\u001b[1;33m\u001b[0m\u001b[0m\n\u001b[1;32m-> 5179\u001b[1;33m             \u001b[1;32mreturn\u001b[0m \u001b[0mobject\u001b[0m\u001b[1;33m.\u001b[0m\u001b[0m__getattribute__\u001b[0m\u001b[1;33m(\u001b[0m\u001b[0mself\u001b[0m\u001b[1;33m,\u001b[0m \u001b[0mname\u001b[0m\u001b[1;33m)\u001b[0m\u001b[1;33m\u001b[0m\u001b[1;33m\u001b[0m\u001b[0m\n\u001b[0m\u001b[0;32m   5180\u001b[0m \u001b[1;33m\u001b[0m\u001b[0m\n\u001b[0;32m   5181\u001b[0m     \u001b[1;32mdef\u001b[0m \u001b[0m__setattr__\u001b[0m\u001b[1;33m(\u001b[0m\u001b[0mself\u001b[0m\u001b[1;33m,\u001b[0m \u001b[0mname\u001b[0m\u001b[1;33m,\u001b[0m \u001b[0mvalue\u001b[0m\u001b[1;33m)\u001b[0m\u001b[1;33m:\u001b[0m\u001b[1;33m\u001b[0m\u001b[1;33m\u001b[0m\u001b[0m\n",
      "\u001b[1;31mAttributeError\u001b[0m: 'DataFrame' object has no attribute 'ease'"
     ]
    }
   ],
   "source": [
    "traces = traces[traces.ease == 3]\n",
    "plt.hist([x for x in traces['used_interval'] if x <= 10], bins=np.arange(10+1)-0.5)\n",
    "plt.xlabel('真实间隔(天)')\n",
    "plt.ylabel('复习记录(条)')\n",
    "plt.show()"
   ]
  },
  {
   "cell_type": "code",
   "execution_count": 55,
   "metadata": {},
   "outputs": [
    {
     "data": {
      "image/png": "[encoded data removed]",
      "text/plain": [
       "<Figure size 432x288 with 1 Axes>"
      ]
     },
     "metadata": {
      "needs_background": "light"
     },
     "output_type": "display_data"
    }
   ],
   "source": [
    "global_repeat_long = df.groupby(\n",
    "    df['acc_lapses']\n",
    ").apply(_compute_bin_p_recall).reset_index().drop(['level_1'], axis=1)[:10]\n",
    "sns.barplot(x='acc_lapses', y='p', data=global_repeat_long, color=sns.color_palette()[0])\n",
    "plt.xticks(rotation=90)\n",
    "plt.ylim(0.6, 1)\n",
    "plt.show()"
   ]
  },
  {
   "cell_type": "code",
   "execution_count": 56,
   "metadata": {},
   "outputs": [
    {
     "data": {
      "image/png": "[encoded data removed]",
      "text/plain": [
       "<Figure size 432x288 with 1 Axes>"
      ]
     },
     "metadata": {
      "needs_background": "light"
     },
     "output_type": "display_data"
    }
   ],
   "source": [
    "global_repeat_long = df.groupby(\n",
    "    df['con_lapses']\n",
    ").apply(_compute_bin_p_recall).reset_index().drop(['level_1'], axis=1)[:10]\n",
    "sns.barplot(x='con_lapses', y='p', data=global_repeat_long, color=sns.color_palette()[0])\n",
    "plt.xticks(rotation=90)\n",
    "plt.ylim(0.5, 1)\n",
    "plt.show()"
   ]
  },
  {
   "cell_type": "code",
   "execution_count": 30,
   "metadata": {},
   "outputs": [
    {
     "ename": "KeyError",
     "evalue": "Index(['cid'], dtype='object')",
     "output_type": "error",
     "traceback": [
      "\u001b[1;31m---------------------------------------------------------------------------\u001b[0m",
      "\u001b[1;31mKeyError\u001b[0m                                  Traceback (most recent call last)",
      "\u001b[1;32m<ipython-input-30-4528c26d2f6d>\u001b[0m in \u001b[0;36m<module>\u001b[1;34m\u001b[0m\n\u001b[1;32m----> 1\u001b[1;33m \u001b[0mplt\u001b[0m\u001b[1;33m.\u001b[0m\u001b[0mhist\u001b[0m\u001b[1;33m(\u001b[0m\u001b[1;33m[\u001b[0m\u001b[0mx\u001b[0m \u001b[1;32mfor\u001b[0m \u001b[0mx\u001b[0m \u001b[1;32min\u001b[0m \u001b[0mdf\u001b[0m\u001b[1;33m.\u001b[0m\u001b[0mdrop_duplicates\u001b[0m\u001b[1;33m(\u001b[0m\u001b[1;33m[\u001b[0m\u001b[1;34m'cid'\u001b[0m\u001b[1;33m]\u001b[0m\u001b[1;33m,\u001b[0m \u001b[0mkeep\u001b[0m\u001b[1;33m=\u001b[0m\u001b[1;34m'last'\u001b[0m\u001b[1;33m)\u001b[0m\u001b[1;33m[\u001b[0m\u001b[1;34m'acc_lapses'\u001b[0m\u001b[1;33m]\u001b[0m \u001b[1;32mif\u001b[0m \u001b[0mx\u001b[0m \u001b[1;33m<=\u001b[0m \u001b[1;36m10\u001b[0m\u001b[1;33m]\u001b[0m\u001b[1;33m,\u001b[0m \u001b[0mbins\u001b[0m\u001b[1;33m=\u001b[0m\u001b[1;36m10\u001b[0m\u001b[1;33m)\u001b[0m\u001b[1;33m\u001b[0m\u001b[1;33m\u001b[0m\u001b[0m\n\u001b[0m\u001b[0;32m      2\u001b[0m \u001b[0mplt\u001b[0m\u001b[1;33m.\u001b[0m\u001b[0mxlim\u001b[0m\u001b[1;33m(\u001b[0m\u001b[1;36m0\u001b[0m\u001b[1;33m,\u001b[0m \u001b[1;36m9\u001b[0m\u001b[1;33m)\u001b[0m\u001b[1;33m\u001b[0m\u001b[1;33m\u001b[0m\u001b[0m\n\u001b[0;32m      3\u001b[0m \u001b[0max\u001b[0m \u001b[1;33m=\u001b[0m \u001b[0mplt\u001b[0m\u001b[1;33m.\u001b[0m\u001b[0mgca\u001b[0m\u001b[1;33m(\u001b[0m\u001b[1;33m)\u001b[0m\u001b[1;33m\u001b[0m\u001b[1;33m\u001b[0m\u001b[0m\n\u001b[0;32m      4\u001b[0m \u001b[0max\u001b[0m\u001b[1;33m.\u001b[0m\u001b[0mxaxis\u001b[0m\u001b[1;33m.\u001b[0m\u001b[0mset_major_locator\u001b[0m\u001b[1;33m(\u001b[0m\u001b[0mMultipleLocator\u001b[0m\u001b[1;33m(\u001b[0m\u001b[1;36m1\u001b[0m\u001b[1;33m)\u001b[0m\u001b[1;33m)\u001b[0m\u001b[1;33m\u001b[0m\u001b[1;33m\u001b[0m\u001b[0m\n\u001b[0;32m      5\u001b[0m \u001b[0mplt\u001b[0m\u001b[1;33m.\u001b[0m\u001b[0mxlabel\u001b[0m\u001b[1;33m(\u001b[0m\u001b[1;34m'累计遗忘(次)'\u001b[0m\u001b[1;33m)\u001b[0m\u001b[1;33m\u001b[0m\u001b[1;33m\u001b[0m\u001b[0m\n",
      "\u001b[1;32mC:\\ProgramData\\Anaconda3\\lib\\site-packages\\pandas\\core\\frame.py\u001b[0m in \u001b[0;36mdrop_duplicates\u001b[1;34m(self, subset, keep, inplace)\u001b[0m\n\u001b[0;32m   4892\u001b[0m \u001b[1;33m\u001b[0m\u001b[0m\n\u001b[0;32m   4893\u001b[0m         \u001b[0minplace\u001b[0m \u001b[1;33m=\u001b[0m \u001b[0mvalidate_bool_kwarg\u001b[0m\u001b[1;33m(\u001b[0m\u001b[0minplace\u001b[0m\u001b[1;33m,\u001b[0m \u001b[1;34m\"inplace\"\u001b[0m\u001b[1;33m)\u001b[0m\u001b[1;33m\u001b[0m\u001b[1;33m\u001b[0m\u001b[0m\n\u001b[1;32m-> 4894\u001b[1;33m         \u001b[0mduplicated\u001b[0m \u001b[1;33m=\u001b[0m \u001b[0mself\u001b[0m\u001b[1;33m.\u001b[0m\u001b[0mduplicated\u001b[0m\u001b[1;33m(\u001b[0m\u001b[0msubset\u001b[0m\u001b[1;33m,\u001b[0m \u001b[0mkeep\u001b[0m\u001b[1;33m=\u001b[0m\u001b[0mkeep\u001b[0m\u001b[1;33m)\u001b[0m\u001b[1;33m\u001b[0m\u001b[1;33m\u001b[0m\u001b[0m\n\u001b[0m\u001b[0;32m   4895\u001b[0m \u001b[1;33m\u001b[0m\u001b[0m\n\u001b[0;32m   4896\u001b[0m         \u001b[1;32mif\u001b[0m \u001b[0minplace\u001b[0m\u001b[1;33m:\u001b[0m\u001b[1;33m\u001b[0m\u001b[1;33m\u001b[0m\u001b[0m\n",
      "\u001b[1;32mC:\\ProgramData\\Anaconda3\\lib\\site-packages\\pandas\\core\\frame.py\u001b[0m in \u001b[0;36mduplicated\u001b[1;34m(self, subset, keep)\u001b[0m\n\u001b[0;32m   4949\u001b[0m         \u001b[0mdiff\u001b[0m \u001b[1;33m=\u001b[0m \u001b[0mIndex\u001b[0m\u001b[1;33m(\u001b[0m\u001b[0msubset\u001b[0m\u001b[1;33m)\u001b[0m\u001b[1;33m.\u001b[0m\u001b[0mdifference\u001b[0m\u001b[1;33m(\u001b[0m\u001b[0mself\u001b[0m\u001b[1;33m.\u001b[0m\u001b[0mcolumns\u001b[0m\u001b[1;33m)\u001b[0m\u001b[1;33m\u001b[0m\u001b[1;33m\u001b[0m\u001b[0m\n\u001b[0;32m   4950\u001b[0m         \u001b[1;32mif\u001b[0m \u001b[1;32mnot\u001b[0m \u001b[0mdiff\u001b[0m\u001b[1;33m.\u001b[0m\u001b[0mempty\u001b[0m\u001b[1;33m:\u001b[0m\u001b[1;33m\u001b[0m\u001b[1;33m\u001b[0m\u001b[0m\n\u001b[1;32m-> 4951\u001b[1;33m             \u001b[1;32mraise\u001b[0m \u001b[0mKeyError\u001b[0m\u001b[1;33m(\u001b[0m\u001b[0mdiff\u001b[0m\u001b[1;33m)\u001b[0m\u001b[1;33m\u001b[0m\u001b[1;33m\u001b[0m\u001b[0m\n\u001b[0m\u001b[0;32m   4952\u001b[0m \u001b[1;33m\u001b[0m\u001b[0m\n\u001b[0;32m   4953\u001b[0m         \u001b[0mvals\u001b[0m \u001b[1;33m=\u001b[0m \u001b[1;33m(\u001b[0m\u001b[0mcol\u001b[0m\u001b[1;33m.\u001b[0m\u001b[0mvalues\u001b[0m \u001b[1;32mfor\u001b[0m \u001b[0mname\u001b[0m\u001b[1;33m,\u001b[0m \u001b[0mcol\u001b[0m \u001b[1;32min\u001b[0m \u001b[0mself\u001b[0m\u001b[1;33m.\u001b[0m\u001b[0mitems\u001b[0m\u001b[1;33m(\u001b[0m\u001b[1;33m)\u001b[0m \u001b[1;32mif\u001b[0m \u001b[0mname\u001b[0m \u001b[1;32min\u001b[0m \u001b[0msubset\u001b[0m\u001b[1;33m)\u001b[0m\u001b[1;33m\u001b[0m\u001b[1;33m\u001b[0m\u001b[0m\n",
      "\u001b[1;31mKeyError\u001b[0m: Index(['cid'], dtype='object')"
     ]
    }
   ],
   "source": [
    "plt.hist([x for x in df.drop_duplicates(['cid'], keep='last')['acc_lapses'] if x <= 10], bins=10)\n",
    "plt.xlim(0, 9)\n",
    "ax = plt.gca()\n",
    "ax.xaxis.set_major_locator(MultipleLocator(1))\n",
    "plt.xlabel('累计遗忘(次)')\n",
    "plt.ylabel('复习记录(条)')\n",
    "# plt.yscale('log')\n",
    "plt.show()"
   ]
  },
  {
   "cell_type": "code",
   "execution_count": 14,
   "metadata": {},
   "outputs": [
    {
     "data": {
      "image/png": "[encoded data removed]",
      "text/plain": [
       "<Figure size 432x288 with 1 Axes>"
      ]
     },
     "metadata": {
      "needs_background": "light"
     },
     "output_type": "display_data"
    }
   ],
   "source": [
    "plt.hist([\n",
    "    x for x in df.drop_duplicates(['cid'], keep='last')['repeat_long']\n",
    "    if x <= 18\n",
    "], bins=np.arange(18+1)-0.5)\n",
    "plt.xlim(1, 18)\n",
    "ax = plt.gca()\n",
    "ax.xaxis.set_major_locator(MultipleLocator(1))\n",
    "plt.xlabel('累计重复(次)')\n",
    "plt.ylabel('复习记录(条)')\n",
    "# plt.yscale('log')\n",
    "plt.show()"
   ]
  },
  {
   "cell_type": "code",
   "execution_count": 288,
   "metadata": {},
   "outputs": [],
   "source": [
    "df['pp'] = 0.8029878575651462"
   ]
  },
  {
   "cell_type": "code",
   "execution_count": 6,
   "metadata": {},
   "outputs": [],
   "source": [
    "def load_brier(predictions, real, bins=20):\n",
    "    counts = np.zeros(bins)\n",
    "    correct = np.zeros(bins)\n",
    "    prediction = np.zeros(bins)\n",
    "    for p, r in zip(predictions, real):\n",
    "        bin = min(int(p * bins), bins - 1)\n",
    "        counts[bin] += 1\n",
    "        correct[bin] += r\n",
    "        prediction[bin] += p\n",
    "    prediction_means = prediction / counts\n",
    "    prediction_means[np.isnan(prediction_means)] = ((np.arange(bins) + 0.5) / bins)[np.isnan(prediction_means)]\n",
    "    correct_means = correct / counts\n",
    "    # correct_means[np.isnan(correct_means)] = 0\n",
    "    size = len(predictions)\n",
    "    answer_mean = sum(correct) / size\n",
    "    return {\n",
    "        \"reliability\": sum(counts * (correct_means - prediction_means) ** 2) / size,\n",
    "        \"resolution\": sum(counts * (correct_means - answer_mean) ** 2) / size,\n",
    "        \"uncertainty\": answer_mean * (1 - answer_mean),\n",
    "        \"detail\": {\n",
    "            \"bin_count\": bins,\n",
    "            \"bin_counts\": list(counts),\n",
    "            \"bin_prediction_means\": list(prediction_means),\n",
    "            \"bin_correct_means\": list(correct_means),\n",
    "        }\n",
    "    }\n",
    "\n",
    "\n",
    "def plot_brier(predictions, real, bins=20):\n",
    "    brier = load_brier(predictions, real, bins=bins)\n",
    "    plt.figure()\n",
    "    plt.plot((0, 1), (0, 1), label='Optimal average observation')\n",
    "    plt.plot(brier['detail']['bin_prediction_means'], brier['detail']['bin_correct_means'],  '*', label='Average observation',)\n",
    "    bin_count = brier['detail']['bin_count']\n",
    "    counts = np.array(brier['detail']['bin_counts'])\n",
    "    bins = (np.arange(bin_count) + 0.5) / bin_count\n",
    "    plt.legend(loc='upper center')\n",
    "    plt.xlabel('Prediction')\n",
    "    plt.ylabel('Observeation')\n",
    "    plt.twinx()\n",
    "    plt.ylabel('Number of predictions')\n",
    "    plt.bar(bins, counts, width=(0.5 / bin_count), alpha=0.5, label='Number of predictions')\n",
    "    plt.legend(loc='lower center')"
   ]
  },
  {
   "cell_type": "code",
   "execution_count": 29,
   "metadata": {},
   "outputs": [
    {
     "name": "stdout",
     "output_type": "stream",
     "text": [
      "AUC: 0.6566361214554547\n"
     ]
    },
    {
     "data": {
      "text/plain": [
       "<Figure size 432x288 with 0 Axes>"
      ]
     },
     "metadata": {},
     "output_type": "display_data"
    },
    {
     "data": {
      "image/png": "[encoded data removed]",
      "text/plain": [
       "<Figure size 720x720 with 1 Axes>"
      ]
     },
     "metadata": {},
     "output_type": "display_data"
    }
   ],
   "source": [
    "\n",
    "fpr, tpr, threshold = roc_curve(df['p'], df['pp'])\n",
    "roc_auc = auc(fpr, tpr)\n",
    "print('AUC:', roc_auc)\n",
    "plt.figure()\n",
    "lw = 2\n",
    "plt.figure(figsize=(10, 10))\n",
    "plt.plot(fpr, tpr, color='darkorange',\n",
    "         lw=lw, label='ROC curve (area = %0.2f)' % roc_auc)  # 假正率为横坐标，真正率为纵坐标做曲线\n",
    "plt.plot([0, 1], [0, 1], color='navy', lw=lw, linestyle='--')\n",
    "plt.xlim([0.0, 1.0])\n",
    "plt.ylim([0.0, 1.05])\n",
    "plt.xlabel('False Positive Rate')\n",
    "plt.ylabel('True Positive Rate')\n",
    "plt.title('Receiver operating characteristic example')\n",
    "plt.legend(loc=\"lower right\")\n",
    "plt.show()"
   ]
  },
  {
   "cell_type": "code",
   "execution_count": 26,
   "metadata": {},
   "outputs": [
    {
     "data": {
      "image/png": "[encoded data removed]",
      "text/plain": [
       "<Figure size 432x288 with 2 Axes>"
      ]
     },
     "metadata": {},
     "output_type": "display_data"
    }
   ],
   "source": [
    "plot_brier(df['pp'], df['p'], 25)\n",
    "plt.show()"
   ]
  },
  {
   "cell_type": "code",
   "execution_count": 311,
   "metadata": {},
   "outputs": [
    {
     "name": "stdout",
     "output_type": "stream",
     "text": [
      "mean recall 0.8030515016779042\n",
      "MAE: 0.29595436307869194\n",
      "RMSE: 0.3847271156262529\n",
      "LL: 0.4672353738596809\n",
      "r2_score: 0.06414294052795344\n"
     ]
    }
   ],
   "source": [
    "print('mean recall', np.mean(df['p']))\n",
    "print('MAE:', mean_absolute_error(df['p'], df['pp']))\n",
    "print('RMSE:', np.sqrt(mean_squared_error(df['p'], df['pp'])))\n",
    "print('LL:', log_loss(df['p'], df['pp']))\n",
    "print('r2_score:', r2_score(df['p'], df['pp']))"
   ]
  },
  {
   "cell_type": "code",
   "execution_count": 289,
   "metadata": {},
   "outputs": [
    {
     "name": "stdout",
     "output_type": "stream",
     "text": [
      "mean recall 0.8029878575651462\n",
      "MAE: 0.28679109272830905\n",
      "RMSE: 0.3975038796966017\n",
      "LL: 0.5004298481906383\n",
      "r2_score: 0.0011948530719348982\n"
     ]
    }
   ],
   "source": [
    "df = pd.read_csv('momo_sm_202012280955.csv')\n",
    "print('mean recall', np.mean(df['p']))\n",
    "print('MAE:', mean_absolute_error(df['p'], df['pp']))\n",
    "print('RMSE:', np.sqrt(mean_squared_error(df['p'], df['pp'])))\n",
    "print('LL:', log_loss(df['p'], df['pp']))\n",
    "print('r2_score:', r2_score(df['p'], df['pp']))"
   ]
  },
  {
   "cell_type": "code",
   "execution_count": 166,
   "metadata": {},
   "outputs": [
    {
     "name": "stdout",
     "output_type": "stream",
     "text": [
      "mean recall 0.8029878575651462\n",
      "MAE: 0.2662037520339905\n",
      "RMSE: 0.3980020351051101\n",
      "LL: 0.5048741130633347\n",
      "r2_score: -0.0013101386267642123\n"
     ]
    }
   ],
   "source": [
    "df = pd.read_csv('momo_sm_202012281834.csv')\n",
    "print('mean recall', np.mean(df['p']))\n",
    "print('MAE:', mean_absolute_error(df['p'], df['pp']))\n",
    "print('RMSE:', np.sqrt(mean_squared_error(df['p'], df['pp'])))\n",
    "print('LL:', log_loss(df['p'], df['pp']))\n",
    "print('r2_score:', r2_score(df['p'], df['pp']))"
   ]
  },
  {
   "cell_type": "code",
   "execution_count": 167,
   "metadata": {},
   "outputs": [
    {
     "name": "stdout",
     "output_type": "stream",
     "text": [
      "mean recall 0.8029878575651462\n",
      "MAE: 0.27736597910940985\n",
      "RMSE: 0.3973913708432532\n",
      "LL: 0.5005818324854053\n",
      "r2_score: 0.0017601734343335451\n"
     ]
    }
   ],
   "source": [
    "df = pd.read_csv('momo_sm_202012290427.csv')\n",
    "print('mean recall', np.mean(df['p']))\n",
    "print('MAE:', mean_absolute_error(df['p'], df['pp']))\n",
    "print('RMSE:', np.sqrt(mean_squared_error(df['p'], df['pp'])))\n",
    "print('LL:', log_loss(df['p'], df['pp']))\n",
    "print('r2_score:', r2_score(df['p'], df['pp']))"
   ]
  },
  {
   "cell_type": "code",
   "execution_count": 168,
   "metadata": {},
   "outputs": [
    {
     "name": "stdout",
     "output_type": "stream",
     "text": [
      "mean recall 0.7608337904552934\n",
      "MAE: 0.3089827693196836\n",
      "RMSE: 0.42406086955285704\n",
      "LL: 0.5613585900973909\n",
      "r2_score: 0.011750084077133849\n"
     ]
    }
   ],
   "source": [
    "df = pd.read_csv('momo_sm_202012291431.csv')\n",
    "print('mean recall', np.mean(df['p']))\n",
    "print('MAE:', mean_absolute_error(df['p'], df['pp']))\n",
    "print('RMSE:', np.sqrt(mean_squared_error(df['p'], df['pp'])))\n",
    "print('LL:', log_loss(df['p'], df['pp']))\n",
    "print('r2_score:', r2_score(df['p'], df['pp']))"
   ]
  },
  {
   "cell_type": "code",
   "execution_count": 169,
   "metadata": {},
   "outputs": [
    {
     "name": "stdout",
     "output_type": "stream",
     "text": [
      "mean recall 0.7608337904552934\n",
      "MAE: 0.31346886850640676\n",
      "RMSE: 0.41789941374651424\n",
      "LL: 0.5384847782112461\n",
      "r2_score: 0.04025930374802267\n"
     ]
    }
   ],
   "source": [
    "df = pd.read_csv('momo_sm_202012291451.csv')\n",
    "print('mean recall', np.mean(df['p']))\n",
    "print('MAE:', mean_absolute_error(df['p'], df['pp']))\n",
    "print('RMSE:', np.sqrt(mean_squared_error(df['p'], df['pp'])))\n",
    "print('LL:', log_loss(df['p'], df['pp']))\n",
    "print('r2_score:', r2_score(df['p'], df['pp']))"
   ]
  },
  {
   "cell_type": "code",
   "execution_count": 164,
   "metadata": {},
   "outputs": [
    {
     "name": "stdout",
     "output_type": "stream",
     "text": [
      "mean recall 0.7608337904552934\n",
      "MAE: 0.3130220832121951\n",
      "RMSE: 0.417728653510952\n",
      "LL: 0.5381085248053739\n",
      "r2_score: 0.041043473617049075\n"
     ]
    }
   ],
   "source": [
    "df = pd.read_csv('momo_sm_202012291508.csv')\n",
    "print('mean recall', np.mean(df['p']))\n",
    "print('MAE:', mean_absolute_error(df['p'], df['pp']))\n",
    "print('RMSE:', np.sqrt(mean_squared_error(df['p'], df['pp'])))\n",
    "print('LL:', log_loss(df['p'], df['pp']))\n",
    "print('r2_score:', r2_score(df['p'], df['pp']))"
   ]
  },
  {
   "cell_type": "code",
   "execution_count": 140,
   "metadata": {},
   "outputs": [
    {
     "name": "stdout",
     "output_type": "stream",
     "text": [
      "mean recall 0.7608337904552934\n",
      "MAE: 0.314371240342692\n",
      "RMSE: 0.4178845898446703\n",
      "LL: 0.5382825319339953\n",
      "r2_score: 0.04032739118281692\n"
     ]
    }
   ],
   "source": [
    "df = pd.read_csv('momo_sm_202012291522.csv')\n",
    "print('mean recall', np.mean(df['p']))\n",
    "print('MAE:', mean_absolute_error(df['p'], df['pp']))\n",
    "print('RMSE:', np.sqrt(mean_squared_error(df['p'], df['pp'])))\n",
    "print('LL:', log_loss(df['p'], df['pp']))\n",
    "print('r2_score:', r2_score(df['p'], df['pp']))"
   ]
  },
  {
   "cell_type": "code",
   "execution_count": 139,
   "metadata": {},
   "outputs": [
    {
     "name": "stdout",
     "output_type": "stream",
     "text": [
      "mean recall 0.7608337904552934\n",
      "MAE: 0.3138161271079119\n",
      "RMSE: 0.41768429400449947\n",
      "LL: 0.5378803953081753\n",
      "r2_score: 0.04124713012572667\n"
     ]
    }
   ],
   "source": [
    "df = pd.read_csv('momo_sm_202012291539.csv')\n",
    "print('mean recall', np.mean(df['p']))\n",
    "print('MAE:', mean_absolute_error(df['p'], df['pp']))\n",
    "print('RMSE:', np.sqrt(mean_squared_error(df['p'], df['pp'])))\n",
    "print('LL:', log_loss(df['p'], df['pp']))\n",
    "print('r2_score:', r2_score(df['p'], df['pp']))"
   ]
  },
  {
   "cell_type": "code",
   "execution_count": 163,
   "metadata": {},
   "outputs": [
    {
     "name": "stdout",
     "output_type": "stream",
     "text": [
      "mean recall 0.7608337904552934\n",
      "MAE: 0.31741134225212114\n",
      "RMSE: 0.4234376358187053\n",
      "LL: 0.559111189632609\n",
      "r2_score: 0.01465277156277267\n"
     ]
    }
   ],
   "source": [
    "df = pd.read_csv('momo_sm_202012291647.csv')\n",
    "print('mean recall', np.mean(df['p']))\n",
    "print('MAE:', mean_absolute_error(df['p'], df['pp']))\n",
    "print('RMSE:', np.sqrt(mean_squared_error(df['p'], df['pp'])))\n",
    "print('LL:', log_loss(df['p'], df['pp']))\n",
    "print('r2_score:', r2_score(df['p'], df['pp']))"
   ]
  },
  {
   "cell_type": "code",
   "execution_count": 162,
   "metadata": {},
   "outputs": [
    {
     "name": "stdout",
     "output_type": "stream",
     "text": [
      "mean recall 0.8029878575651462\n",
      "MAE: 0.28432030684354154\n",
      "RMSE: 0.39853229399433554\n",
      "LL: 0.503709566830665\n",
      "r2_score: -0.003980010890099583\n"
     ]
    }
   ],
   "source": [
    "df = pd.read_csv('momo_sm_202012291951.csv')\n",
    "print('mean recall', np.mean(df['p']))\n",
    "print('MAE:', mean_absolute_error(df['p'], df['pp']))\n",
    "print('RMSE:', np.sqrt(mean_squared_error(df['p'], df['pp'])))\n",
    "print('LL:', log_loss(df['p'], df['pp']))\n",
    "print('r2_score:', r2_score(df['p'], df['pp']))"
   ]
  },
  {
   "cell_type": "code",
   "execution_count": 161,
   "metadata": {},
   "outputs": [
    {
     "name": "stdout",
     "output_type": "stream",
     "text": [
      "mean recall 0.7608337904552934\n",
      "MAE: 0.31163383190846106\n",
      "RMSE: 0.4274304051298627\n",
      "LL: 0.5604885124061764\n",
      "r2_score: -0.004017335888809814\n"
     ]
    }
   ],
   "source": [
    "df = pd.read_csv('momo_sm_202012300104.csv')\n",
    "print('mean recall', np.mean(df['p']))\n",
    "print('MAE:', mean_absolute_error(df['p'], df['pp']))\n",
    "print('RMSE:', np.sqrt(mean_squared_error(df['p'], df['pp'])))\n",
    "print('LL:', log_loss(df['p'], df['pp']))\n",
    "print('r2_score:', r2_score(df['p'], df['pp']))"
   ]
  },
  {
   "cell_type": "code",
   "execution_count": 160,
   "metadata": {},
   "outputs": [
    {
     "name": "stdout",
     "output_type": "stream",
     "text": [
      "mean recall 0.8029878575651462\n",
      "MAE: 0.28113648790726725\n",
      "RMSE: 0.3972574026186347\n",
      "LL: 0.5003170717411138\n",
      "r2_score: 0.0024331114256548325\n"
     ]
    }
   ],
   "source": [
    "df = pd.read_csv('momo_sm_202012302029.csv')\n",
    "print('mean recall', np.mean(df['p']))\n",
    "print('MAE:', mean_absolute_error(df['p'], df['pp']))\n",
    "print('RMSE:', np.sqrt(mean_squared_error(df['p'], df['pp'])))\n",
    "print('LL:', log_loss(df['p'], df['pp']))\n",
    "print('r2_score:', r2_score(df['p'], df['pp']))"
   ]
  },
  {
   "cell_type": "code",
   "execution_count": 174,
   "metadata": {},
   "outputs": [
    {
     "name": "stdout",
     "output_type": "stream",
     "text": [
      "mean recall 0.7608337904552934\n",
      "MAE: 0.3146885818598915\n",
      "RMSE: 0.4176549702578504\n",
      "LL: 0.5378728068806113\n",
      "r2_score: 0.04138174490426494\n"
     ]
    }
   ],
   "source": [
    "df = pd.read_csv('momo_sm_202012311811.csv')\n",
    "print('mean recall', np.mean(df['p']))\n",
    "print('MAE:', mean_absolute_error(df['p'], df['pp']))\n",
    "print('RMSE:', np.sqrt(mean_squared_error(df['p'], df['pp'])))\n",
    "print('LL:', log_loss(df['p'], df['pp']))\n",
    "print('r2_score:', r2_score(df['p'], df['pp']))"
   ]
  },
  {
   "cell_type": "code",
   "execution_count": 219,
   "metadata": {},
   "outputs": [
    {
     "name": "stdout",
     "output_type": "stream",
     "text": [
      "mean recall 0.8029878575651462\n",
      "MAE: 0.27639333011406786\n",
      "RMSE: 0.39693481112844337\n",
      "LL: 0.4999057657490868\n",
      "r2_score: 0.0040525950454458615\n"
     ]
    }
   ],
   "source": [
    "df = pd.read_csv('momo_sm_202012311956.csv')\n",
    "print('mean recall', np.mean(df['p']))\n",
    "print('MAE:', mean_absolute_error(df['p'], df['pp']))\n",
    "print('RMSE:', np.sqrt(mean_squared_error(df['p'], df['pp'])))\n",
    "print('LL:', log_loss(df['p'], df['pp']))\n",
    "print('r2_score:', r2_score(df['p'], df['pp']))"
   ]
  },
  {
   "cell_type": "code",
   "execution_count": 170,
   "metadata": {},
   "outputs": [
    {
     "name": "stdout",
     "output_type": "stream",
     "text": [
      "mean recall 0.7608337904552934\n",
      "MAE: 0.31092235609000424\n",
      "RMSE: 0.42613367270590186\n",
      "LL: 0.557710793218263\n",
      "r2_score: 0.0020653709637764583\n"
     ]
    }
   ],
   "source": [
    "df = pd.read_csv('momo_sm_202012312253.csv')\n",
    "print('mean recall', np.mean(df['p']))\n",
    "print('MAE:', mean_absolute_error(df['p'], df['pp']))\n",
    "print('RMSE:', np.sqrt(mean_squared_error(df['p'], df['pp'])))\n",
    "print('LL:', log_loss(df['p'], df['pp']))\n",
    "print('r2_score:', r2_score(df['p'], df['pp']))"
   ]
  },
  {
   "cell_type": "code",
   "execution_count": 266,
   "metadata": {},
   "outputs": [
    {
     "name": "stdout",
     "output_type": "stream",
     "text": [
      "mean recall 0.7608337904552934\n",
      "MAE: 0.30864831901534584\n",
      "RMSE: 0.4170525910677065\n",
      "LL: 0.5369913837412281\n",
      "r2_score: 0.04414496001305335\n"
     ]
    }
   ],
   "source": [
    "df = pd.read_csv('momo_sm_202101011344.csv')\n",
    "print('mean recall', np.mean(df['p']))\n",
    "print('MAE:', mean_absolute_error(df['p'], df['pp']))\n",
    "print('RMSE:', np.sqrt(mean_squared_error(df['p'], df['pp'])))\n",
    "print('LL:', log_loss(df['p'], df['pp']))\n",
    "print('r2_score:', r2_score(df['p'], df['pp']))"
   ]
  },
  {
   "cell_type": "code",
   "execution_count": 313,
   "metadata": {},
   "outputs": [
    {
     "name": "stdout",
     "output_type": "stream",
     "text": [
      "mean recall 0.8030515016779042\n",
      "MAE: 0.29595436307869194\n",
      "RMSE: 0.3847271156262529\n",
      "LL: 0.4672353738596809\n",
      "r2_score: 0.06414294052795344\n"
     ]
    }
   ],
   "source": [
    "df = pd.read_csv('lr_full.csv')\n",
    "print('mean recall', np.mean(df['p']))\n",
    "print('MAE:', mean_absolute_error(df['p'], df['pp']))\n",
    "print('RMSE:', np.sqrt(mean_squared_error(df['p'], df['pp'])))\n",
    "print('LL:', log_loss(df['p'], df['pp']))\n",
    "print('r2_score:', r2_score(df['p'], df['pp']))"
   ]
  },
  {
   "cell_type": "code",
   "execution_count": 3,
   "metadata": {},
   "outputs": [
    {
     "name": "stdout",
     "output_type": "stream",
     "text": [
      "mean recall 0.8029878575651462\n",
      "MAE: 0.27147911375122596\n",
      "RMSE: 0.3960090193328171\n",
      "LL: 0.49680259118352776\n",
      "r2_score: 0.008692977544570657\n"
     ]
    }
   ],
   "source": [
    "df = pd.read_csv('momo_sm_202101011439.csv')\n",
    "print('mean recall', np.mean(df['p']))\n",
    "print('MAE:', mean_absolute_error(df['p'], df['pp']))\n",
    "print('RMSE:', np.sqrt(mean_squared_error(df['p'], df['pp'])))\n",
    "print('LL:', log_loss(df['p'], df['pp']))\n",
    "print('r2_score:', r2_score(df['p'], df['pp']))"
   ]
  },
  {
   "cell_type": "code",
   "execution_count": 31,
   "metadata": {},
   "outputs": [
    {
     "name": "stdout",
     "output_type": "stream",
     "text": [
      "mean recall 0.7608337904552934\n",
      "MAE: 0.3110128011010583\n",
      "RMSE: 0.4175391338747475\n",
      "LL: 0.5377447487000322\n",
      "r2_score: 0.04191341568762763\n"
     ]
    }
   ],
   "source": [
    "df = pd.read_csv('momo_sm_202101020212.csv')\n",
    "print('mean recall', np.mean(df['p']))\n",
    "print('MAE:', mean_absolute_error(df['p'], df['pp']))\n",
    "print('RMSE:', np.sqrt(mean_squared_error(df['p'], df['pp'])))\n",
    "print('LL:', log_loss(df['p'], df['pp']))\n",
    "print('r2_score:', r2_score(df['p'], df['pp']))"
   ]
  },
  {
   "cell_type": "code",
   "execution_count": 322,
   "metadata": {},
   "outputs": [],
   "source": [
    "df.to_csv('revlog_202012160921_predict.csv', index=False)"
   ]
  },
  {
   "cell_type": "code",
   "execution_count": null,
   "metadata": {},
   "outputs": [],
   "source": []
  }
 ],
 "metadata": {
  "kernelspec": {
   "display_name": "Python 3",
   "language": "python",
   "name": "python3"
  },
  "language_info": {
   "codemirror_mode": {
    "name": "ipython",
    "version": 3
   },
   "file_extension": ".py",
   "mimetype": "text/x-python",
   "name": "python",
   "nbconvert_exporter": "python",
   "pygments_lexer": "ipython3",
   "version": "3.7.4"
  }
 },
 "nbformat": 4,
 "nbformat_minor": 2
}
